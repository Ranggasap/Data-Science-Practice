{
 "cells": [
  {
   "cell_type": "code",
   "execution_count": 1,
   "metadata": {},
   "outputs": [
    {
     "name": "stdout",
     "output_type": "stream",
     "text": [
      "cetak\n"
     ]
    }
   ],
   "source": [
    "print('cetak')"
   ]
  },
  {
   "cell_type": "code",
   "execution_count": 2,
   "metadata": {},
   "outputs": [
    {
     "ename": "TypeError",
     "evalue": "unsupported operand type(s) for +: 'int' and 'str'",
     "output_type": "error",
     "traceback": [
      "\u001b[1;31m---------------------------------------------------------------------------\u001b[0m",
      "\u001b[1;31mTypeError\u001b[0m                                 Traceback (most recent call last)",
      "\u001b[1;32m<ipython-input-2-013270d67d3d>\u001b[0m in \u001b[0;36m<module>\u001b[1;34m\u001b[0m\n\u001b[1;32m----> 1\u001b[1;33m \u001b[0mprint\u001b[0m\u001b[1;33m(\u001b[0m\u001b[1;36m1\u001b[0m \u001b[1;33m+\u001b[0m \u001b[1;34m'2'\u001b[0m\u001b[1;33m)\u001b[0m\u001b[1;33m\u001b[0m\u001b[1;33m\u001b[0m\u001b[0m\n\u001b[0m",
      "\u001b[1;31mTypeError\u001b[0m: unsupported operand type(s) for +: 'int' and 'str'"
     ]
    }
   ],
   "source": [
    "print(1 + '2')"
   ]
  },
  {
   "cell_type": "code",
   "execution_count": 3,
   "metadata": {},
   "outputs": [
    {
     "name": "stdout",
     "output_type": "stream",
     "text": [
      "0.5\n"
     ]
    }
   ],
   "source": [
    "print(1/2)"
   ]
  },
  {
   "cell_type": "code",
   "execution_count": 4,
   "metadata": {},
   "outputs": [
    {
     "ename": "ZeroDivisionError",
     "evalue": "division by zero",
     "output_type": "error",
     "traceback": [
      "\u001b[1;31m---------------------------------------------------------------------------\u001b[0m",
      "\u001b[1;31mZeroDivisionError\u001b[0m                         Traceback (most recent call last)",
      "\u001b[1;32m<ipython-input-4-2fc232d1511a>\u001b[0m in \u001b[0;36m<module>\u001b[1;34m\u001b[0m\n\u001b[1;32m----> 1\u001b[1;33m \u001b[0mprint\u001b[0m\u001b[1;33m(\u001b[0m\u001b[1;36m1\u001b[0m\u001b[1;33m/\u001b[0m\u001b[1;36m0\u001b[0m\u001b[1;33m)\u001b[0m\u001b[1;33m\u001b[0m\u001b[1;33m\u001b[0m\u001b[0m\n\u001b[0m",
      "\u001b[1;31mZeroDivisionError\u001b[0m: division by zero"
     ]
    }
   ],
   "source": [
    "print(1/0)"
   ]
  },
  {
   "cell_type": "code",
   "execution_count": 5,
   "metadata": {},
   "outputs": [
    {
     "name": "stdout",
     "output_type": "stream",
     "text": [
      "Input Your Number : 12\n",
      "12\n"
     ]
    }
   ],
   "source": [
    "print(input('Input Your Number : '))"
   ]
  },
  {
   "cell_type": "code",
   "execution_count": 7,
   "metadata": {},
   "outputs": [
    {
     "name": "stdout",
     "output_type": "stream",
     "text": [
      "Input Your Number : df\n",
      "df\n"
     ]
    }
   ],
   "source": [
    "print(input('Input Your Number : '))"
   ]
  },
  {
   "cell_type": "code",
   "execution_count": 8,
   "metadata": {},
   "outputs": [
    {
     "name": "stdout",
     "output_type": "stream",
     "text": [
      "Input Your Number : sd\n"
     ]
    },
    {
     "ename": "ValueError",
     "evalue": "invalid literal for int() with base 10: 'sd'",
     "output_type": "error",
     "traceback": [
      "\u001b[1;31m---------------------------------------------------------------------------\u001b[0m",
      "\u001b[1;31mValueError\u001b[0m                                Traceback (most recent call last)",
      "\u001b[1;32m<ipython-input-8-984bcf67afa2>\u001b[0m in \u001b[0;36m<module>\u001b[1;34m\u001b[0m\n\u001b[1;32m----> 1\u001b[1;33m \u001b[0mprint\u001b[0m\u001b[1;33m(\u001b[0m\u001b[0mint\u001b[0m\u001b[1;33m(\u001b[0m\u001b[0minput\u001b[0m\u001b[1;33m(\u001b[0m\u001b[1;34m'Input Your Number : '\u001b[0m\u001b[1;33m)\u001b[0m\u001b[1;33m)\u001b[0m\u001b[1;33m)\u001b[0m\u001b[1;33m\u001b[0m\u001b[1;33m\u001b[0m\u001b[0m\n\u001b[0m",
      "\u001b[1;31mValueError\u001b[0m: invalid literal for int() with base 10: 'sd'"
     ]
    }
   ],
   "source": [
    "print(int(input('Input Your Number : ')))"
   ]
  },
  {
   "cell_type": "code",
   "execution_count": 9,
   "metadata": {},
   "outputs": [
    {
     "name": "stdout",
     "output_type": "stream",
     "text": [
      "Input Your Number : 12\n",
      "12\n"
     ]
    }
   ],
   "source": [
    "try:\n",
    "    print(int(input('Input Your Number : ')))\n",
    "\n",
    "except:\n",
    "    print('Please Input a Real Number !')"
   ]
  },
  {
   "cell_type": "code",
   "execution_count": 10,
   "metadata": {},
   "outputs": [
    {
     "name": "stdout",
     "output_type": "stream",
     "text": [
      "Input Your Number : fd\n",
      "Please Input a Real Number !\n"
     ]
    }
   ],
   "source": [
    "try:\n",
    "    print(int(input('Input Your Number : ')))\n",
    "\n",
    "except:\n",
    "    print('Please Input a Real Number !')"
   ]
  },
  {
   "cell_type": "code",
   "execution_count": 11,
   "metadata": {},
   "outputs": [
    {
     "name": "stdout",
     "output_type": "stream",
     "text": [
      "Input Your Number : asd\n",
      "Please Input a Real Number !\n",
      "Input Your Number : 12\n",
      "12\n",
      "Thanks for Input a Real Number\n"
     ]
    }
   ],
   "source": [
    "while True:\n",
    "    try:\n",
    "        print(int(input('Input Your Number : ')))\n",
    "\n",
    "    except:\n",
    "        print('Please Input a Real Number !')\n",
    "    \n",
    "    else:\n",
    "        print('Thanks for Input a Real Number')\n",
    "        break"
   ]
  },
  {
   "cell_type": "code",
   "execution_count": 13,
   "metadata": {},
   "outputs": [
    {
     "name": "stdout",
     "output_type": "stream",
     "text": [
      "Input Your Number : as\n",
      "Please Input a Real Number\n",
      "Input Your Number : 0\n",
      "Please Input a Bigger Number except Zero!\n",
      "Input Your Number : 3\n",
      "6.666666666666667\n",
      "Thanks for Input a Real Number\n"
     ]
    }
   ],
   "source": [
    "while True:\n",
    "    try:\n",
    "        angka = int(input('Input Your Number : '))\n",
    "        print(20/angka)\n",
    "    except ZeroDivisionError:\n",
    "        print('Please Input a Bigger Number except Zero!')\n",
    "    except ValueError:\n",
    "        print('Please Input a Real Number')\n",
    "    else:\n",
    "        print('Thanks for Input a Real Number')\n",
    "        break"
   ]
  },
  {
   "cell_type": "code",
   "execution_count": 66,
   "metadata": {},
   "outputs": [],
   "source": [
    "def hitung (a1,a2):\n",
    "        try:\n",
    "            result = int(a1) + int(a2)\n",
    "            return result\n",
    "        except ValueError:\n",
    "            print('Please Input a Real Number')\n",
    "        else:\n",
    "            print('thanks')\n",
    "        "
   ]
  },
  {
   "cell_type": "code",
   "execution_count": 67,
   "metadata": {},
   "outputs": [
    {
     "name": "stdout",
     "output_type": "stream",
     "text": [
      "10\n"
     ]
    }
   ],
   "source": [
    "print(hitung(1,9))"
   ]
  },
  {
   "cell_type": "code",
   "execution_count": 69,
   "metadata": {},
   "outputs": [
    {
     "name": "stdout",
     "output_type": "stream",
     "text": [
      "11\n"
     ]
    }
   ],
   "source": [
    "print(hitung(10,1))"
   ]
  },
  {
   "cell_type": "code",
   "execution_count": 41,
   "metadata": {},
   "outputs": [],
   "source": [
    "def hitung(a1,a2):\n",
    "    \n",
    "    while True:\n",
    "        try:\n",
    "            a1 + a2\n",
    "        except:\n",
    "            print('Masukkan angka dan bukan karakter')\n",
    "            while True:\n",
    "                try:\n",
    "                    a1 = int(input('Masukkan nilai pertama berupa angka = '))\n",
    "                    a2 = int(input('Masukkan nilai kedua berupa angka = '))\n",
    "                except:\n",
    "                    print('nilai yang dimasukkan harus angka dan bukan karakter')\n",
    "                else:\n",
    "                    break\n",
    "        else:\n",
    "            print(a1 + a2)\n",
    "            print('congrats')\n",
    "            break"
   ]
  },
  {
   "cell_type": "code",
   "execution_count": 42,
   "metadata": {},
   "outputs": [
    {
     "name": "stdout",
     "output_type": "stream",
     "text": [
      "3\n",
      "congrats\n"
     ]
    }
   ],
   "source": [
    "hitung(1,2)"
   ]
  },
  {
   "cell_type": "code",
   "execution_count": 43,
   "metadata": {},
   "outputs": [
    {
     "name": "stdout",
     "output_type": "stream",
     "text": [
      "Masukkan angka dan bukan karakter\n",
      "Masukkan nilai pertama berupa angka = 2\n",
      "Masukkan nilai kedua berupa angka = 3\n",
      "5\n",
      "congrats\n"
     ]
    }
   ],
   "source": [
    "hitung(1,'k')"
   ]
  },
  {
   "cell_type": "code",
   "execution_count": 45,
   "metadata": {},
   "outputs": [
    {
     "name": "stdout",
     "output_type": "stream",
     "text": [
      "Masukkan angka dan bukan karakter\n",
      "Masukkan nilai pertama berupa angka = 1\n",
      "Masukkan nilai kedua berupa angka = l\n",
      "nilai yang dimasukkan harus angka dan bukan karakter\n",
      "Masukkan nilai pertama berupa angka = 4\n",
      "Masukkan nilai kedua berupa angka = 9\n",
      "13\n",
      "congrats\n"
     ]
    }
   ],
   "source": [
    "hitung(1,'k')"
   ]
  },
  {
   "cell_type": "code",
   "execution_count": 46,
   "metadata": {},
   "outputs": [],
   "source": [
    "def hitung(a1,a2):\n",
    "    \n",
    "    while True:\n",
    "        try:\n",
    "            a1 + a2\n",
    "        except:\n",
    "            print('Masukkan angka dan bukan karakter')\n",
    "            while True:\n",
    "                try:\n",
    "                    a1 = int(input('Masukkan nilai pertama berupa angka = '))\n",
    "                    a2 = int(input('Masukkan nilai kedua berupa angka = '))\n",
    "                except:\n",
    "                    print('nilai yang dimasukkan harus angka dan bukan karakter')\n",
    "                else:\n",
    "                    break\n",
    "        else:\n",
    "            print(a1 + a2)\n",
    "            print('congrats')\n",
    "            break\n",
    "        finally:\n",
    "            print('SAYA AKAN SELALU DIJALANKAN')"
   ]
  },
  {
   "cell_type": "code",
   "execution_count": 47,
   "metadata": {},
   "outputs": [
    {
     "name": "stdout",
     "output_type": "stream",
     "text": [
      "3\n",
      "congrats\n",
      "SAYA AKAN SELALU DIJALANKAN\n"
     ]
    }
   ],
   "source": [
    "hitung(1,2)"
   ]
  },
  {
   "cell_type": "code",
   "execution_count": 48,
   "metadata": {},
   "outputs": [
    {
     "name": "stdout",
     "output_type": "stream",
     "text": [
      "Masukkan angka dan bukan karakter\n",
      "Masukkan nilai pertama berupa angka = asd\n",
      "nilai yang dimasukkan harus angka dan bukan karakter\n",
      "Masukkan nilai pertama berupa angka = d\n",
      "nilai yang dimasukkan harus angka dan bukan karakter\n",
      "Masukkan nilai pertama berupa angka = 1\n",
      "Masukkan nilai kedua berupa angka = s\n",
      "nilai yang dimasukkan harus angka dan bukan karakter\n",
      "Masukkan nilai pertama berupa angka = 1\n",
      "Masukkan nilai kedua berupa angka = 2\n",
      "SAYA AKAN SELALU DIJALANKAN\n",
      "3\n",
      "congrats\n",
      "SAYA AKAN SELALU DIJALANKAN\n"
     ]
    }
   ],
   "source": [
    "hitung(1,'d')"
   ]
  },
  {
   "cell_type": "code",
   "execution_count": 50,
   "metadata": {},
   "outputs": [
    {
     "name": "stdout",
     "output_type": "stream",
     "text": [
      "input a number : s\n",
      "input a number not a character\n",
      "yeay\n"
     ]
    }
   ],
   "source": [
    "try:\n",
    "    angka = int(input('input a number : '))\n",
    "except:\n",
    "    print('input a number not a character')\n",
    "else:\n",
    "    print(angka)\n",
    "finally:\n",
    "    print('yeay')"
   ]
  },
  {
   "cell_type": "code",
   "execution_count": 63,
   "metadata": {},
   "outputs": [
    {
     "name": "stdout",
     "output_type": "stream",
     "text": [
      "input a number : 3\n",
      "yeay\n"
     ]
    },
    {
     "ename": "ZeroDivisionError",
     "evalue": "Its True and No zero",
     "output_type": "error",
     "traceback": [
      "\u001b[1;31m---------------------------------------------------------------------------\u001b[0m",
      "\u001b[1;31mZeroDivisionError\u001b[0m                         Traceback (most recent call last)",
      "\u001b[1;32m<ipython-input-63-93b1ff608bd6>\u001b[0m in \u001b[0;36m<module>\u001b[1;34m\u001b[0m\n\u001b[0;32m      2\u001b[0m     \u001b[0mangka\u001b[0m \u001b[1;33m=\u001b[0m \u001b[0mint\u001b[0m\u001b[1;33m(\u001b[0m\u001b[0minput\u001b[0m\u001b[1;33m(\u001b[0m\u001b[1;34m'input a number : '\u001b[0m\u001b[1;33m)\u001b[0m\u001b[1;33m)\u001b[0m\u001b[1;33m\u001b[0m\u001b[1;33m\u001b[0m\u001b[0m\n\u001b[0;32m      3\u001b[0m     \u001b[1;36m10\u001b[0m\u001b[1;33m/\u001b[0m\u001b[0mangka\u001b[0m\u001b[1;33m\u001b[0m\u001b[1;33m\u001b[0m\u001b[0m\n\u001b[1;32m----> 4\u001b[1;33m     \u001b[1;32mraise\u001b[0m \u001b[0mZeroDivisionError\u001b[0m\u001b[1;33m(\u001b[0m\u001b[1;34m'Its True and No zero'\u001b[0m\u001b[1;33m)\u001b[0m\u001b[1;33m\u001b[0m\u001b[1;33m\u001b[0m\u001b[0m\n\u001b[0m\u001b[0;32m      5\u001b[0m \u001b[1;32mfinally\u001b[0m\u001b[1;33m:\u001b[0m\u001b[1;33m\u001b[0m\u001b[1;33m\u001b[0m\u001b[0m\n\u001b[0;32m      6\u001b[0m     \u001b[0mprint\u001b[0m\u001b[1;33m(\u001b[0m\u001b[1;34m'yeay'\u001b[0m\u001b[1;33m)\u001b[0m\u001b[1;33m\u001b[0m\u001b[1;33m\u001b[0m\u001b[0m\n",
      "\u001b[1;31mZeroDivisionError\u001b[0m: Its True and No zero"
     ]
    }
   ],
   "source": [
    "try:\n",
    "    angka = int(input('input a number : '))\n",
    "    10/angka\n",
    "    raise ZeroDivisionError('Its True and No zero')\n",
    "finally:\n",
    "    print('yeay')"
   ]
  },
  {
   "cell_type": "code",
   "execution_count": null,
   "metadata": {},
   "outputs": [],
   "source": []
  },
  {
   "cell_type": "code",
   "execution_count": null,
   "metadata": {},
   "outputs": [],
   "source": []
  },
  {
   "cell_type": "code",
   "execution_count": null,
   "metadata": {},
   "outputs": [],
   "source": []
  },
  {
   "cell_type": "code",
   "execution_count": null,
   "metadata": {},
   "outputs": [],
   "source": []
  },
  {
   "cell_type": "code",
   "execution_count": null,
   "metadata": {},
   "outputs": [],
   "source": []
  },
  {
   "cell_type": "code",
   "execution_count": null,
   "metadata": {},
   "outputs": [],
   "source": []
  }
 ],
 "metadata": {
  "kernelspec": {
   "display_name": "Python 3",
   "language": "python",
   "name": "python3"
  },
  "language_info": {
   "codemirror_mode": {
    "name": "ipython",
    "version": 3
   },
   "file_extension": ".py",
   "mimetype": "text/x-python",
   "name": "python",
   "nbconvert_exporter": "python",
   "pygments_lexer": "ipython3",
   "version": "3.8.5"
  }
 },
 "nbformat": 4,
 "nbformat_minor": 4
}
