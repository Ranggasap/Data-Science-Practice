{
 "cells": [
  {
   "cell_type": "markdown",
   "metadata": {},
   "source": [
    "## Saya ingin mahir bahasa python"
   ]
  },
  {
   "cell_type": "code",
   "execution_count": 1,
   "metadata": {},
   "outputs": [
    {
     "name": "stdout",
     "output_type": "stream",
     "text": [
      "SHIFT + ENTER\n"
     ]
    }
   ],
   "source": [
    "print(\"SHIFT + ENTER\")"
   ]
  },
  {
   "cell_type": "code",
   "execution_count": 2,
   "metadata": {},
   "outputs": [
    {
     "data": {
      "text/plain": [
       "2"
      ]
     },
     "execution_count": 2,
     "metadata": {},
     "output_type": "execute_result"
    }
   ],
   "source": [
    "1 + 1"
   ]
  },
  {
   "cell_type": "markdown",
   "metadata": {},
   "source": [
    "JIKA INGIN MEMBUAT LINE BARU TANPA DIESEKUSI ALT + ENTER"
   ]
  },
  {
   "cell_type": "markdown",
   "metadata": {},
   "source": [
    "kita menggunakan italic *ini*"
   ]
  },
  {
   "cell_type": "markdown",
   "metadata": {},
   "source": [
    "membuat teks menjadi bolt **ini**"
   ]
  },
  {
   "cell_type": "markdown",
   "metadata": {},
   "source": [
    "*semua italic ** wow ** ini *"
   ]
  },
  {
   "cell_type": "markdown",
   "metadata": {},
   "source": [
    "> \"Kuda adalah seorang binatang\""
   ]
  },
  {
   "cell_type": "markdown",
   "metadata": {},
   "source": [
    "Jenis makanan :\n",
    "* nasi\n",
    "* roti\n",
    "* tepung\n",
    "    * tepung tapioka"
   ]
  },
  {
   "cell_type": "markdown",
   "metadata": {},
   "source": [
    "juara lomba lari adalah:\n",
    "1. anggi\n",
    "2. moho\n",
    "3. hise"
   ]
  },
  {
   "cell_type": "markdown",
   "metadata": {},
   "source": [
    "\\*miring*"
   ]
  },
  {
   "cell_type": "markdown",
   "metadata": {},
   "source": [
    "![beban.jpg](damos.jpg)\n"
   ]
  },
  {
   "cell_type": "markdown",
   "metadata": {},
   "source": [
    "while dan looping tidak berhenti"
   ]
  },
  {
   "cell_type": "code",
   "execution_count": null,
   "metadata": {},
   "outputs": [],
   "source": []
  }
 ],
 "metadata": {
  "kernelspec": {
   "display_name": "Python 3",
   "language": "python",
   "name": "python3"
  },
  "language_info": {
   "codemirror_mode": {
    "name": "ipython",
    "version": 3
   },
   "file_extension": ".py",
   "mimetype": "text/x-python",
   "name": "python",
   "nbconvert_exporter": "python",
   "pygments_lexer": "ipython3",
   "version": "3.8.5"
  }
 },
 "nbformat": 4,
 "nbformat_minor": 4
}
