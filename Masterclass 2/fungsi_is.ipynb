{
 "cells": [
  {
   "cell_type": "code",
   "execution_count": 2,
   "metadata": {},
   "outputs": [
    {
     "name": "stdout",
     "output_type": "stream",
     "text": [
      "1.  True\n",
      "2.  False\n",
      "3.  False\n",
      "4.  True\n",
      "5.  True\n",
      "6.  True\n"
     ]
    }
   ],
   "source": [
    "print('1. ', True == 1)\n",
    "print('2. ', '' == 0)\n",
    "print('3. ', [] == False)\n",
    "print('4. ', 23 == 23.0)\n",
    "print('5. ', [] == [])\n",
    "print('6. ', () == ())\n"
   ]
  },
  {
   "cell_type": "code",
   "execution_count": 5,
   "metadata": {},
   "outputs": [
    {
     "name": "stdout",
     "output_type": "stream",
     "text": [
      "1.  False\n",
      "2.  False\n",
      "3.  False\n",
      "4.  False\n",
      "5.  False\n",
      "6.  True\n"
     ]
    },
    {
     "name": "stderr",
     "output_type": "stream",
     "text": [
      "<>:1: SyntaxWarning: \"is\" with a literal. Did you mean \"==\"?\n",
      "<>:2: SyntaxWarning: \"is\" with a literal. Did you mean \"==\"?\n",
      "<>:4: SyntaxWarning: \"is\" with a literal. Did you mean \"==\"?\n",
      "<>:6: SyntaxWarning: \"is\" with a literal. Did you mean \"==\"?\n",
      "<>:1: SyntaxWarning: \"is\" with a literal. Did you mean \"==\"?\n",
      "<>:2: SyntaxWarning: \"is\" with a literal. Did you mean \"==\"?\n",
      "<>:4: SyntaxWarning: \"is\" with a literal. Did you mean \"==\"?\n",
      "<>:6: SyntaxWarning: \"is\" with a literal. Did you mean \"==\"?\n",
      "<ipython-input-5-861ba4ffd9c5>:1: SyntaxWarning: \"is\" with a literal. Did you mean \"==\"?\n",
      "  print('1. ', True is 1)\n",
      "<ipython-input-5-861ba4ffd9c5>:2: SyntaxWarning: \"is\" with a literal. Did you mean \"==\"?\n",
      "  print('2. ', '' is 0)\n",
      "<ipython-input-5-861ba4ffd9c5>:4: SyntaxWarning: \"is\" with a literal. Did you mean \"==\"?\n",
      "  print('4. ', 23 is 23.0)\n",
      "<ipython-input-5-861ba4ffd9c5>:6: SyntaxWarning: \"is\" with a literal. Did you mean \"==\"?\n",
      "  print('6. ', () is ()) # sequence yang unmutable atau tidak bisa diubah akan true\n"
     ]
    }
   ],
   "source": [
    "print('1. ', True is 1)\n",
    "print('2. ', '' is 0)\n",
    "print('3. ', [] is False)\n",
    "print('4. ', 23 is 23.0)\n",
    "print('5. ', [] is []) # sequence yang mutable atau bisa diubah akan false\n",
    "print('6. ', () is ()) # sequence yang unmutable atau tidak bisa diubah akan true"
   ]
  },
  {
   "cell_type": "code",
   "execution_count": null,
   "metadata": {},
   "outputs": [],
   "source": []
  },
  {
   "cell_type": "code",
   "execution_count": null,
   "metadata": {},
   "outputs": [],
   "source": []
  },
  {
   "cell_type": "code",
   "execution_count": null,
   "metadata": {},
   "outputs": [],
   "source": []
  },
  {
   "cell_type": "code",
   "execution_count": null,
   "metadata": {},
   "outputs": [],
   "source": []
  },
  {
   "cell_type": "code",
   "execution_count": null,
   "metadata": {},
   "outputs": [],
   "source": []
  }
 ],
 "metadata": {
  "kernelspec": {
   "display_name": "Python 3",
   "language": "python",
   "name": "python3"
  },
  "language_info": {
   "codemirror_mode": {
    "name": "ipython",
    "version": 3
   },
   "file_extension": ".py",
   "mimetype": "text/x-python",
   "name": "python",
   "nbconvert_exporter": "python",
   "pygments_lexer": "ipython3",
   "version": "3.8.5"
  }
 },
 "nbformat": 4,
 "nbformat_minor": 4
}
