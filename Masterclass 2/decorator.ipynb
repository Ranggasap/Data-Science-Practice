{
 "cells": [
  {
   "cell_type": "code",
   "execution_count": 2,
   "metadata": {},
   "outputs": [],
   "source": [
    "def kurban():\n",
    "    print('Bentar lagi kurban')"
   ]
  },
  {
   "cell_type": "code",
   "execution_count": 4,
   "metadata": {},
   "outputs": [],
   "source": [
    "coba = kurban"
   ]
  },
  {
   "cell_type": "code",
   "execution_count": 7,
   "metadata": {},
   "outputs": [
    {
     "name": "stdout",
     "output_type": "stream",
     "text": [
      "Bentar lagi kurban\n"
     ]
    }
   ],
   "source": [
    "coba()"
   ]
  },
  {
   "cell_type": "code",
   "execution_count": 9,
   "metadata": {},
   "outputs": [
    {
     "ename": "NameError",
     "evalue": "name 'kurban' is not defined",
     "output_type": "error",
     "traceback": [
      "\u001b[1;31m---------------------------------------------------------------------------\u001b[0m",
      "\u001b[1;31mNameError\u001b[0m                                 Traceback (most recent call last)",
      "\u001b[1;32m<ipython-input-9-a92137bf7e49>\u001b[0m in \u001b[0;36m<module>\u001b[1;34m\u001b[0m\n\u001b[1;32m----> 1\u001b[1;33m \u001b[1;32mdel\u001b[0m \u001b[0mkurban\u001b[0m\u001b[1;33m\u001b[0m\u001b[1;33m\u001b[0m\u001b[0m\n\u001b[0m",
      "\u001b[1;31mNameError\u001b[0m: name 'kurban' is not defined"
     ]
    }
   ],
   "source": [
    "del kurban"
   ]
  },
  {
   "cell_type": "code",
   "execution_count": 10,
   "metadata": {},
   "outputs": [
    {
     "data": {
      "text/plain": [
       "<function __main__.kurban()>"
      ]
     },
     "execution_count": 10,
     "metadata": {},
     "output_type": "execute_result"
    }
   ],
   "source": [
    "coba"
   ]
  },
  {
   "cell_type": "code",
   "execution_count": 11,
   "metadata": {},
   "outputs": [
    {
     "name": "stdout",
     "output_type": "stream",
     "text": [
      "Bentar lagi kurban\n"
     ]
    }
   ],
   "source": [
    "coba()"
   ]
  },
  {
   "cell_type": "code",
   "execution_count": 25,
   "metadata": {},
   "outputs": [],
   "source": [
    "def kurban2(bulan = 'juli'):\n",
    "    print('sudah siap kurban, semoga barokah dan dimudahkan rezekinya')\n",
    "    \n",
    "    def lokasi():\n",
    "        return '\\t lokasi kurban berada di masjid'\n",
    "    \n",
    "    def konfirmasi():\n",
    "        return '\\n \\t bro ini bukan hari judi, coba cek kalender lagi'\n",
    "    \n",
    "    print('ini adalah fungsi terakhir di kurban2')\n",
    "    \n",
    "    if bulan == 'juli':\n",
    "        return lokasi\n",
    "    else:\n",
    "        return konfirmasi"
   ]
  },
  {
   "cell_type": "code",
   "execution_count": 26,
   "metadata": {},
   "outputs": [
    {
     "name": "stdout",
     "output_type": "stream",
     "text": [
      "sudah siap kurban, semoga barokah dan dimudahkan rezekinya\n",
      "ini adalah fungsi terakhir di kurban2\n"
     ]
    },
    {
     "data": {
      "text/plain": [
       "<function __main__.kurban2.<locals>.lokasi()>"
      ]
     },
     "execution_count": 26,
     "metadata": {},
     "output_type": "execute_result"
    }
   ],
   "source": [
    "kurban2()"
   ]
  },
  {
   "cell_type": "code",
   "execution_count": 27,
   "metadata": {},
   "outputs": [
    {
     "name": "stdout",
     "output_type": "stream",
     "text": [
      "sudah siap kurban, semoga barokah dan dimudahkan rezekinya\n",
      "ini adalah fungsi terakhir di kurban2\n"
     ]
    }
   ],
   "source": [
    "cek_kurban = kurban2()"
   ]
  },
  {
   "cell_type": "code",
   "execution_count": 28,
   "metadata": {},
   "outputs": [
    {
     "data": {
      "text/plain": [
       "<function __main__.kurban2.<locals>.lokasi()>"
      ]
     },
     "execution_count": 28,
     "metadata": {},
     "output_type": "execute_result"
    }
   ],
   "source": [
    "cek_kurban"
   ]
  },
  {
   "cell_type": "code",
   "execution_count": 29,
   "metadata": {},
   "outputs": [
    {
     "data": {
      "text/plain": [
       "'\\t lokasi kurban berada di masjid'"
      ]
     },
     "execution_count": 29,
     "metadata": {},
     "output_type": "execute_result"
    }
   ],
   "source": [
    "cek_kurban()"
   ]
  },
  {
   "cell_type": "code",
   "execution_count": 30,
   "metadata": {},
   "outputs": [
    {
     "name": "stdout",
     "output_type": "stream",
     "text": [
      "\t lokasi kurban berada di masjid\n"
     ]
    }
   ],
   "source": [
    "print(cek_kurban())"
   ]
  },
  {
   "cell_type": "code",
   "execution_count": 31,
   "metadata": {},
   "outputs": [
    {
     "name": "stdout",
     "output_type": "stream",
     "text": [
      "sudah siap kurban, semoga barokah dan dimudahkan rezekinya\n",
      "ini adalah fungsi terakhir di kurban2\n"
     ]
    }
   ],
   "source": [
    "cek_kurban = kurban2('juni')"
   ]
  },
  {
   "cell_type": "code",
   "execution_count": 32,
   "metadata": {},
   "outputs": [
    {
     "data": {
      "text/plain": [
       "<function __main__.kurban2.<locals>.konfirmasi()>"
      ]
     },
     "execution_count": 32,
     "metadata": {},
     "output_type": "execute_result"
    }
   ],
   "source": [
    "cek_kurban"
   ]
  },
  {
   "cell_type": "code",
   "execution_count": 33,
   "metadata": {},
   "outputs": [
    {
     "name": "stdout",
     "output_type": "stream",
     "text": [
      "\n",
      " \t bro ini bukan hari judi, coba cek kalender lagi\n"
     ]
    }
   ],
   "source": [
    "print(cek_kurban())"
   ]
  },
  {
   "cell_type": "code",
   "execution_count": 34,
   "metadata": {},
   "outputs": [],
   "source": [
    "def salam():\n",
    "    return 'halo, semua'"
   ]
  },
  {
   "cell_type": "code",
   "execution_count": 35,
   "metadata": {},
   "outputs": [],
   "source": [
    "def kabar(fungsi_lain):\n",
    "    print('Saya menjalankan fungsi lain')\n",
    "    print(fungsi_lain)"
   ]
  },
  {
   "cell_type": "code",
   "execution_count": 36,
   "metadata": {},
   "outputs": [
    {
     "name": "stdout",
     "output_type": "stream",
     "text": [
      "Saya menjalankan fungsi lain\n",
      "<function salam at 0x0000028D69DA3CA0>\n"
     ]
    }
   ],
   "source": [
    "kabar(salam)"
   ]
  },
  {
   "cell_type": "code",
   "execution_count": 37,
   "metadata": {},
   "outputs": [
    {
     "name": "stdout",
     "output_type": "stream",
     "text": [
      "Saya menjalankan fungsi lain\n",
      "halo, semua\n"
     ]
    }
   ],
   "source": [
    "kabar(salam())"
   ]
  },
  {
   "cell_type": "code",
   "execution_count": 38,
   "metadata": {},
   "outputs": [],
   "source": [
    "#decorator adalah sebuah fungsi yang disingkat dengan @"
   ]
  },
  {
   "cell_type": "code",
   "execution_count": 49,
   "metadata": {},
   "outputs": [],
   "source": [
    "def dekoratorku(fungsi):\n",
    "    def wrap_func():\n",
    "        print('saya adalah yang pertama')\n",
    "        fungsi()\n",
    "        print('saya yang ketiga')\n",
    "        print('😊')\n",
    "    return wrap_func"
   ]
  },
  {
   "cell_type": "code",
   "execution_count": 50,
   "metadata": {},
   "outputs": [],
   "source": [
    "@dekoratorku\n",
    "def salam2():\n",
    "    print('halo, world')"
   ]
  },
  {
   "cell_type": "code",
   "execution_count": 52,
   "metadata": {},
   "outputs": [
    {
     "name": "stdout",
     "output_type": "stream",
     "text": [
      "saya adalah yang pertama\n",
      "halo, world\n",
      "saya yang ketiga\n",
      "😊\n"
     ]
    }
   ],
   "source": [
    "salam2()"
   ]
  },
  {
   "cell_type": "code",
   "execution_count": 55,
   "metadata": {},
   "outputs": [],
   "source": [
    "@dekoratorku\n",
    "def hitung():\n",
    "    print('Math is fun')"
   ]
  },
  {
   "cell_type": "code",
   "execution_count": 56,
   "metadata": {},
   "outputs": [
    {
     "name": "stdout",
     "output_type": "stream",
     "text": [
      "saya adalah yang pertama\n",
      "Math is fun\n",
      "saya yang ketiga\n",
      "😊\n"
     ]
    }
   ],
   "source": [
    "hitung()"
   ]
  },
  {
   "cell_type": "code",
   "execution_count": 57,
   "metadata": {},
   "outputs": [],
   "source": [
    "# kapan decorator digunakan"
   ]
  },
  {
   "cell_type": "code",
   "execution_count": null,
   "metadata": {},
   "outputs": [],
   "source": [
    "# flask\n",
    "# django"
   ]
  },
  {
   "cell_type": "code",
   "execution_count": 58,
   "metadata": {},
   "outputs": [],
   "source": [
    "# conroh penggunaan decorator di website\n",
    "pengguna1 = {'nama' : 'Bambang', 'status':True}"
   ]
  },
  {
   "cell_type": "code",
   "execution_count": 62,
   "metadata": {},
   "outputs": [],
   "source": [
    "def otentifikasi(fungsi):\n",
    "    def wrap_func(*args, **kwargs):\n",
    "        if args[0]['status']:\n",
    "            return fungsi(*args, **kwargs)\n",
    "    return wrap_func"
   ]
  },
  {
   "cell_type": "code",
   "execution_count": 63,
   "metadata": {},
   "outputs": [],
   "source": [
    "@otentifikasi\n",
    "def kirim_pesan(user):\n",
    "    print('Pesan sudah dikirim')"
   ]
  },
  {
   "cell_type": "code",
   "execution_count": 64,
   "metadata": {},
   "outputs": [
    {
     "name": "stdout",
     "output_type": "stream",
     "text": [
      "Pesan sudah dikirim\n"
     ]
    }
   ],
   "source": [
    "kirim_pesan(pengguna1)"
   ]
  },
  {
   "cell_type": "code",
   "execution_count": null,
   "metadata": {},
   "outputs": [],
   "source": []
  },
  {
   "cell_type": "code",
   "execution_count": null,
   "metadata": {},
   "outputs": [],
   "source": []
  }
 ],
 "metadata": {
  "kernelspec": {
   "display_name": "Python 3",
   "language": "python",
   "name": "python3"
  },
  "language_info": {
   "codemirror_mode": {
    "name": "ipython",
    "version": 3
   },
   "file_extension": ".py",
   "mimetype": "text/x-python",
   "name": "python",
   "nbconvert_exporter": "python",
   "pygments_lexer": "ipython3",
   "version": "3.8.5"
  }
 },
 "nbformat": 4,
 "nbformat_minor": 4
}
