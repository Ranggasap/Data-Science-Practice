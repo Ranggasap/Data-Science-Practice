{
 "cells": [
  {
   "cell_type": "code",
   "execution_count": 1,
   "metadata": {},
   "outputs": [
    {
     "data": {
      "text/plain": [
       "True"
      ]
     },
     "execution_count": 1,
     "metadata": {},
     "output_type": "execute_result"
    }
   ],
   "source": [
    "True"
   ]
  },
  {
   "cell_type": "code",
   "execution_count": 2,
   "metadata": {},
   "outputs": [
    {
     "data": {
      "text/plain": [
       "False"
      ]
     },
     "execution_count": 2,
     "metadata": {},
     "output_type": "execute_result"
    }
   ],
   "source": [
    "False"
   ]
  },
  {
   "cell_type": "code",
   "execution_count": 3,
   "metadata": {},
   "outputs": [
    {
     "ename": "NameError",
     "evalue": "name 'true' is not defined",
     "output_type": "error",
     "traceback": [
      "\u001b[1;31m---------------------------------------------------------------------------\u001b[0m",
      "\u001b[1;31mNameError\u001b[0m                                 Traceback (most recent call last)",
      "\u001b[1;32m<ipython-input-3-724ba28f4a9a>\u001b[0m in \u001b[0;36m<module>\u001b[1;34m\u001b[0m\n\u001b[1;32m----> 1\u001b[1;33m \u001b[0mtrue\u001b[0m\u001b[1;33m\u001b[0m\u001b[1;33m\u001b[0m\u001b[0m\n\u001b[0m",
      "\u001b[1;31mNameError\u001b[0m: name 'true' is not defined"
     ]
    }
   ],
   "source": [
    "true"
   ]
  },
  {
   "cell_type": "code",
   "execution_count": 4,
   "metadata": {},
   "outputs": [
    {
     "data": {
      "text/plain": [
       "bool"
      ]
     },
     "execution_count": 4,
     "metadata": {},
     "output_type": "execute_result"
    }
   ],
   "source": [
    "type(True)"
   ]
  },
  {
   "cell_type": "code",
   "execution_count": 5,
   "metadata": {},
   "outputs": [],
   "source": [
    "a = 1"
   ]
  },
  {
   "cell_type": "code",
   "execution_count": 6,
   "metadata": {},
   "outputs": [],
   "source": [
    "b = 3"
   ]
  },
  {
   "cell_type": "code",
   "execution_count": 18,
   "metadata": {},
   "outputs": [
    {
     "name": "stdout",
     "output_type": "stream",
     "text": [
      "false\n"
     ]
    }
   ],
   "source": [
    "if a > b:\n",
    "    print(\"true\")\n",
    "else:\n",
    "    print(\"false\")"
   ]
  },
  {
   "cell_type": "code",
   "execution_count": 1,
   "metadata": {},
   "outputs": [
    {
     "name": "stdout",
     "output_type": "stream",
     "text": [
      "Jumlah penjumlahan pada iterator ke-1 adalah 1\n",
      "Jumlah penjumlahan pada iterator ke-2 adalah 3\n",
      "Jumlah penjumlahan pada iterator ke-3 adalah 6\n",
      "Jumlah penjumlahan pada iterator ke-4 adalah 10\n",
      "Jumlah penjumlahan pada iterator ke-5 adalah 15\n",
      "Jumlah penjumlahan pada iterator ke-6 adalah 21\n",
      "Jumlah penjumlahan pada iterator ke-7 adalah 28\n",
      "Jumlah penjumlahan pada iterator ke-8 adalah 36\n",
      "Jumlah penjumlahan pada iterator ke-9 adalah 45\n"
     ]
    }
   ],
   "source": [
    "jumlah = 0\n",
    "angka = [1,2,3,4,5,6,7,8,9]\n",
    "for isi in angka:\n",
    "    jumlah += isi\n",
    "    print('Jumlah penjumlahan pada iterator ke-{} adalah {}'.format(isi,jumlah))"
   ]
  },
  {
   "cell_type": "code",
   "execution_count": 8,
   "metadata": {},
   "outputs": [
    {
     "name": "stdout",
     "output_type": "stream",
     "text": [
      "s\n",
      "halo\n",
      "y\n",
      "halo\n",
      " \n",
      "s\n",
      "e\n",
      "d\n",
      "halo\n",
      "n\n",
      "g\n",
      " \n",
      "b\n",
      "e\n",
      "l\n",
      "halo\n",
      "j\n",
      "halo\n",
      "r\n"
     ]
    }
   ],
   "source": [
    "for item in 'saya sedang belajar':\n",
    "    if (item == 'a'):\n",
    "        print('halo')\n",
    "    else:\n",
    "        print(item)\n",
    "        \n",
    "    "
   ]
  },
  {
   "cell_type": "code",
   "execution_count": 9,
   "metadata": {},
   "outputs": [
    {
     "name": "stdout",
     "output_type": "stream",
     "text": [
      "s\n",
      "a ini ke 1\n",
      "y\n",
      "a ini ke 2\n",
      " \n",
      "s\n",
      "e\n",
      "d\n",
      "a ini ke 3\n",
      "n\n",
      "g\n",
      " \n",
      "b\n",
      "e\n",
      "l\n",
      "a ini ke 4\n",
      "j\n",
      "a ini ke 5\n",
      "r\n"
     ]
    }
   ],
   "source": [
    "jumlah1 = 0\n",
    "for item in 'saya sedang belajar':\n",
    "    if item == 'a':\n",
    "        jumlah1 += 1\n",
    "        print('a ini ke', jumlah1)\n",
    "    else:\n",
    "        print(item)"
   ]
  },
  {
   "cell_type": "code",
   "execution_count": 10,
   "metadata": {},
   "outputs": [
    {
     "name": "stdout",
     "output_type": "stream",
     "text": [
      "ganjil 1\n",
      "genap 2\n",
      "ganjil 3\n",
      "genap 4\n",
      "ganjil 5\n",
      "genap 6\n",
      "ganjil 7\n",
      "genap 8\n",
      "ganjil 9\n",
      "genap 10\n"
     ]
    }
   ],
   "source": [
    "angka = [1,2,3,4,5,6,7,8,9,10]\n",
    "for i in angka:\n",
    "    if i % 2 == 1:\n",
    "        print('ganjil', i)\n",
    "    else: \n",
    "        print('genap', i)"
   ]
  },
  {
   "cell_type": "code",
   "execution_count": 15,
   "metadata": {},
   "outputs": [
    {
     "name": "stdout",
     "output_type": "stream",
     "text": [
      "1 2\n",
      "3 4\n",
      "5 6\n"
     ]
    }
   ],
   "source": [
    "box = ((1,2), (3,4), (5,6))\n",
    "for a,b in box:\n",
    "    print(a,b)\n",
    "    "
   ]
  },
  {
   "cell_type": "code",
   "execution_count": 20,
   "metadata": {},
   "outputs": [
    {
     "name": "stdout",
     "output_type": "stream",
     "text": [
      "1\n",
      "2\n",
      "3\n",
      "4\n",
      "5\n",
      "6\n"
     ]
    }
   ],
   "source": [
    "for a,b in box:\n",
    "    print(a)\n",
    "    print(b)\n",
    "    "
   ]
  },
  {
   "cell_type": "code",
   "execution_count": 7,
   "metadata": {},
   "outputs": [
    {
     "data": {
      "text/plain": [
       "True"
      ]
     },
     "execution_count": 7,
     "metadata": {},
     "output_type": "execute_result"
    }
   ],
   "source": [
    "def detect(kalimat):\n",
    "    if('Python'.lower() in kalimat):\n",
    "        return True\n",
    "    else:\n",
    "        return False\n",
    "\n",
    "detect('python sangat keren')"
   ]
  },
  {
   "cell_type": "code",
   "execution_count": 9,
   "metadata": {},
   "outputs": [
    {
     "name": "stdout",
     "output_type": "stream",
     "text": [
      "ketikkan kalimat yang kalian inginkan wow\n"
     ]
    }
   ],
   "source": [
    "wow = input('ketikkan kalimat yang kalian inginkan ')"
   ]
  },
  {
   "cell_type": "code",
   "execution_count": 10,
   "metadata": {},
   "outputs": [],
   "source": [
    "def jumlah(*args):\n",
    "    return sum(args)"
   ]
  },
  {
   "cell_type": "code",
   "execution_count": 11,
   "metadata": {},
   "outputs": [
    {
     "data": {
      "text/plain": [
       "369"
      ]
     },
     "execution_count": 11,
     "metadata": {},
     "output_type": "execute_result"
    }
   ],
   "source": [
    "jumlah(123,123,123)"
   ]
  },
  {
   "cell_type": "code",
   "execution_count": 13,
   "metadata": {},
   "outputs": [],
   "source": [
    "def budi(**kwargs):\n",
    "    print(kwargs['budi'])"
   ]
  },
  {
   "cell_type": "code",
   "execution_count": 14,
   "metadata": {},
   "outputs": [
    {
     "name": "stdout",
     "output_type": "stream",
     "text": [
      "90\n"
     ]
    }
   ],
   "source": [
    "budi(budi=90)"
   ]
  },
  {
   "cell_type": "code",
   "execution_count": 17,
   "metadata": {},
   "outputs": [],
   "source": [
    "def wow(*args, **kwargs):\n",
    "    print('saya membeli {} {}'.format(args[0], kwargs['makanan']))"
   ]
  },
  {
   "cell_type": "code",
   "execution_count": 18,
   "metadata": {},
   "outputs": [
    {
     "name": "stdout",
     "output_type": "stream",
     "text": [
      "saya membeli 23 mie\n"
     ]
    }
   ],
   "source": [
    "wow(23,12,23,makanan='mie', minuman='sirup')"
   ]
  },
  {
   "cell_type": "code",
   "execution_count": null,
   "metadata": {},
   "outputs": [],
   "source": []
  }
 ],
 "metadata": {
  "kernelspec": {
   "display_name": "Python 3",
   "language": "python",
   "name": "python3"
  },
  "language_info": {
   "codemirror_mode": {
    "name": "ipython",
    "version": 3
   },
   "file_extension": ".py",
   "mimetype": "text/x-python",
   "name": "python",
   "nbconvert_exporter": "python",
   "pygments_lexer": "ipython3",
   "version": "3.8.5"
  }
 },
 "nbformat": 4,
 "nbformat_minor": 4
}
